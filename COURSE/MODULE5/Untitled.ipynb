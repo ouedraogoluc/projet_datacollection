{
 "cells": [
  {
   "cell_type": "code",
   "execution_count": null,
   "id": "c850920d",
   "metadata": {},
   "outputs": [],
   "source": [
    "import json\n",
    "from .utils import Utils\n",
    "from bs4 import BeautifulSoup\n",
    "\n",
    "\n",
    "BASE_URL = 'COURSE/DATABASES/data-zIybdmYZoV4QSwgZkFtaB.html'\n"
   ]
  },
  {
   "cell_type": "code",
   "execution_count": null,
   "id": "81f33a34",
   "metadata": {},
   "outputs": [],
   "source": [
    "class HtmlFactory(object):\n",
    "    @classmethod\n",
    "    def openFile(cls):\n",
    "        with open(BASE_URL) as file:\n",
    "            data = file.read()\n",
    "            data = BeautifulSoup(\n",
    "                data,\n",
    "                'html.parser')\n",
    "            file.close()\n",
    "        return data\n",
    "        \n",
    "        "
   ]
  }
 ],
 "metadata": {
  "kernelspec": {
   "display_name": "Python 3",
   "language": "python",
   "name": "python3"
  }
 },
 "nbformat": 4,
 "nbformat_minor": 5
}
